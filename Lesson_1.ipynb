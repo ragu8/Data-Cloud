{
 "cells": [
  {
   "cell_type": "markdown",
   "metadata": {},
   "source": [
    "## Topic 1\n",
    "### Analyze a Dataset to Explore Big Data Characteristics"
   ]
  },
  {
   "cell_type": "markdown",
   "metadata": {},
   "source": [
    "### Objective: \n",
    "1. Analyze a Sample Dataset to Understand Volume,Velocity,Variety,Verosity,Value."
   ]
  },
  {
   "cell_type": "markdown",
   "metadata": {},
   "source": [
    "### Task Steps:\n",
    "\n",
    "1. Read the Data: Load the dataset.\n",
    "2. Analyze Volume: Handle the large volume of data by processing it in chunks.\n",
    "3. Analyze Variety: Check data types and unique fields (e.g., categorical and numerical data).\n",
    "4. Analyse Velocity: Check the volume of data\n",
    "5. Ensure Veracity: Check for and clean inconsistencies or missing values.\n",
    "6. Extract Value: Perform a basic analysis, such as calculating the busiest hours for taxi trips or finding the average trip distance."
   ]
  },
  {
   "cell_type": "code",
   "execution_count": 14,
   "metadata": {
    "execution": {
     "iopub.execute_input": "2024-11-10T07:13:51.776008Z",
     "iopub.status.busy": "2024-11-10T07:13:51.775641Z",
     "iopub.status.idle": "2024-11-10T07:13:52.349558Z",
     "shell.execute_reply": "2024-11-10T07:13:52.348630Z",
     "shell.execute_reply.started": "2024-11-10T07:13:51.775975Z"
    }
   },
   "outputs": [],
   "source": [
    "import pandas as pd\n",
    "\n",
    "# Load the Titanic dataset (update the path if the file is stored locally or use a URL if available)\n",
    "url = \"https://raw.githubusercontent.com/datasciencedojo/datasets/master/titanic.csv\"\n",
    "df = pd.read_csv(url)"
   ]
  },
  {
   "cell_type": "markdown",
   "metadata": {},
   "source": [
    "### Analyse Volume\n"
   ]
  },
  {
   "cell_type": "code",
   "execution_count": 16,
   "metadata": {
    "execution": {
     "iopub.execute_input": "2024-11-10T07:13:57.020612Z",
     "iopub.status.busy": "2024-11-10T07:13:57.020303Z",
     "iopub.status.idle": "2024-11-10T07:13:57.028449Z",
     "shell.execute_reply": "2024-11-10T07:13:57.027931Z",
     "shell.execute_reply.started": "2024-11-10T07:13:57.020587Z"
    }
   },
   "outputs": [
    {
     "name": "stdout",
     "output_type": "stream",
     "text": [
      "Dataset Volume (Memory Usage)\n",
      "0.28 MB\n"
     ]
    }
   ],
   "source": [
    "print('Dataset Volume (Memory Usage)')\n",
    "print(f\"{df.memory_usage(deep=True).sum() / (1024**2):.2f} MB\")"
   ]
  },
  {
   "cell_type": "markdown",
   "metadata": {},
   "source": [
    "### Analyse Variety\n"
   ]
  },
  {
   "cell_type": "code",
   "execution_count": 52,
   "metadata": {
    "execution": {
     "iopub.execute_input": "2024-11-09T17:07:07.280761Z",
     "iopub.status.busy": "2024-11-09T17:07:07.280356Z",
     "iopub.status.idle": "2024-11-09T17:07:07.289491Z",
     "shell.execute_reply": "2024-11-09T17:07:07.288095Z",
     "shell.execute_reply.started": "2024-11-09T17:07:07.280725Z"
    }
   },
   "outputs": [
    {
     "name": "stdout",
     "output_type": "stream",
     "text": [
      "Dataset Variety:\n",
      "\n",
      "Data Types:\n",
      "PassengerId      int64\n",
      "Survived         int64\n",
      "Pclass           int64\n",
      "Name            object\n",
      "Sex             object\n",
      "Age            float64\n",
      "SibSp            int64\n",
      "Parch            int64\n",
      "Ticket          object\n",
      "Fare           float64\n",
      "Cabin           object\n",
      "Embarked        object\n",
      "dtype: object\n",
      "========================================\n",
      "Print Dataset contains 3 different datatypes\n"
     ]
    }
   ],
   "source": [
    "# Analyze Variety: Display the data types of each column\n",
    "print(\"Dataset Variety:\")\n",
    "print(\"\\nData Types:\")\n",
    "print(df.dtypes)\n",
    "print(f\"=\"*40)\n",
    "print(\"Print Dataset contains 3 different datatypes\")"
   ]
  },
  {
   "cell_type": "markdown",
   "metadata": {},
   "source": [
    "### Verocity : Clean data by handling missing values or outliers"
   ]
  },
  {
   "cell_type": "code",
   "execution_count": 47,
   "metadata": {
    "execution": {
     "iopub.execute_input": "2024-11-09T17:01:28.495114Z",
     "iopub.status.busy": "2024-11-09T17:01:28.494726Z",
     "iopub.status.idle": "2024-11-09T17:01:28.506480Z",
     "shell.execute_reply": "2024-11-09T17:01:28.505374Z",
     "shell.execute_reply.started": "2024-11-09T17:01:28.495079Z"
    }
   },
   "outputs": [],
   "source": [
    "# Handle missing values\n",
    "df['Age'] = df['Age'].fillna(df['Age'].median())  # Fill missing Age values with median age\n",
    "df['Embarked'] = df['Embarked'].fillna(df['Embarked'].mode()[0])  # Fill missing Embarked values with mode\n",
    "df['Fare'] = df['Fare'].fillna(df['Fare'].median())  # Fill missing Fare values with median fare\n",
    "df = df.fillna(\"Unknown\")  # Fill any remaining NaNs with \"Unknown\" (or consider dropping)"
   ]
  },
  {
   "cell_type": "markdown",
   "metadata": {},
   "source": [
    "### Value - Insights"
   ]
  },
  {
   "cell_type": "code",
   "execution_count": 53,
   "metadata": {
    "execution": {
     "iopub.execute_input": "2024-11-09T17:07:17.176946Z",
     "iopub.status.busy": "2024-11-09T17:07:17.176555Z",
     "iopub.status.idle": "2024-11-09T17:07:17.185008Z",
     "shell.execute_reply": "2024-11-09T17:07:17.183604Z",
     "shell.execute_reply.started": "2024-11-09T17:07:17.176909Z"
    }
   },
   "outputs": [
    {
     "name": "stdout",
     "output_type": "stream",
     "text": [
      "\n",
      "Average Age of Passengers: 29.69911764705882\n",
      "Survival Rate (%): 38.38383838383838\n"
     ]
    }
   ],
   "source": [
    "# Basic Insights\n",
    "# 1. Calculate the average age of passengers\n",
    "average_age = df['Age'].mean()\n",
    "print(\"\\nAverage Age of Passengers:\", average_age)\n",
    "\n",
    "# 2. Calculate the percentage of survivors\n",
    "survival_rate = df['Survived'].mean() * 100\n",
    "print(\"Survival Rate (%):\", survival_rate)\n"
   ]
  },
  {
   "cell_type": "markdown",
   "metadata": {},
   "source": [
    "### Velocity \n",
    "\n",
    "- Dataset is download not a streaming so can't get velocity"
   ]
  },
  {
   "cell_type": "markdown",
   "metadata": {},
   "source": [
    "## ===============================================================================================================================\n",
    "## Task 2\n",
    "### Challenges in Big Data Analytics\n",
    "\n",
    "## Objective: \n",
    "1. Calculate system metrics like CPU, GPU, RAM, and storage\n",
    "2. Understand the dataset requirements for processing"
   ]
  },
  {
   "cell_type": "code",
   "execution_count": 9,
   "metadata": {
    "execution": {
     "iopub.execute_input": "2024-11-10T07:09:18.545323Z",
     "iopub.status.busy": "2024-11-10T07:09:18.544752Z",
     "iopub.status.idle": "2024-11-10T07:09:18.552805Z",
     "shell.execute_reply": "2024-11-10T07:09:18.552331Z",
     "shell.execute_reply.started": "2024-11-10T07:09:18.545269Z"
    }
   },
   "outputs": [],
   "source": [
    "import psutil\n",
    "import subprocess\n",
    "import time\n",
    "import pandas as pd\n",
    "from typing import Dict\n",
    "\n",
    "def get_cpu_info() -> Dict[str, float]:\n",
    "    \"\"\"Get CPU information including usage and count.\"\"\"\n",
    "    return {\n",
    "        \"CPU_Usage_Percentage\": psutil.cpu_percent(interval=1),\n",
    "        \"CPU_Core_Count\": psutil.cpu_count(logical=True)\n",
    "    }\n",
    "\n",
    "def get_gpu_info() -> Dict[str, str]:\n",
    "    \"\"\"Get GPU information using nvidia-smi command if available.\"\"\"\n",
    "    try:\n",
    "        gpu_info = subprocess.check_output([\"nvidia-smi\", \"--query-gpu=name,memory.total,memory.used\", \"--format=csv,noheader,nounits\"], text=True)\n",
    "        gpu_data = gpu_info.strip().split(\"\\n\")[0].split(\", \")\n",
    "        return {\n",
    "            \"GPU_Name\": gpu_data[0],\n",
    "            \"GPU_Total_Memory_MB\": float(gpu_data[1]),\n",
    "            \"GPU_Used_Memory_MB\": float(gpu_data[2]),\n",
    "            \"GPU_Usage_Percentage\": (float(gpu_data[2]) / float(gpu_data[1])) * 100\n",
    "        }\n",
    "    except FileNotFoundError:\n",
    "        return {\"GPU_Name\": \"nvidia-smi command not found, no GPU detected\"}\n",
    "\n",
    "def get_ram_info() -> Dict[str, float]:\n",
    "    \"\"\"Get system RAM information.\"\"\"\n",
    "    ram_info = psutil.virtual_memory()\n",
    "    return {\n",
    "        \"Total_RAM_GB\": ram_info.total / (1024**3),\n",
    "        \"Available_RAM_GB\": ram_info.available / (1024**3),\n",
    "        \"RAM_Usage_Percentage\": ram_info.percent\n",
    "    }\n",
    "\n",
    "def get_storage_info() -> Dict[str, float]:\n",
    "    \"\"\"Get system storage information.\"\"\"\n",
    "    storage = psutil.disk_usage('/')\n",
    "    return {\n",
    "        \"Total_Storage_GB\": storage.total / (1024**3),\n",
    "        \"Available_Storage_GB\": storage.free / (1024**3),\n",
    "        \"Storage_Usage_Percentage\": storage.percent\n",
    "    }\n",
    "\n",
    "def measure_processing_time(function, *args) -> float:\n",
    "    \"\"\"Measure average processing time of a function on a dataset.\"\"\"\n",
    "    repetitions = 5  # Number of times to run the function for averaging\n",
    "    total_time = 0.0\n",
    "    for _ in range(repetitions):\n",
    "        start_time = time.time()\n",
    "        function(*args)\n",
    "        total_time += time.time() - start_time\n",
    "    average_time = total_time / repetitions\n",
    "    return average_time\n",
    "\n",
    "# Sample function to test processing time\n",
    "def process_titanic_data(df: pd.DataFrame) -> None:\n",
    "    \"\"\"Simulate processing the Titanic dataset.\"\"\"\n",
    "    # Example operations: calculate survival rate, average age, etc.\n",
    "    survival_rate = df['Survived'].mean()\n",
    "    average_age = df['Age'].mean()\n",
    "    passenger_class_count = df['Pclass'].value_counts()\n",
    "    # Printing or logging would go here if desired for debugging purposes"
   ]
  },
  {
   "cell_type": "markdown",
   "metadata": {},
   "source": [
    "#### Print System metrics"
   ]
  },
  {
   "cell_type": "code",
   "execution_count": 20,
   "metadata": {
    "execution": {
     "iopub.execute_input": "2024-11-10T07:16:46.369527Z",
     "iopub.status.busy": "2024-11-10T07:16:46.369163Z",
     "iopub.status.idle": "2024-11-10T07:16:47.684505Z",
     "shell.execute_reply": "2024-11-10T07:16:47.683521Z",
     "shell.execute_reply.started": "2024-11-10T07:16:46.369498Z"
    }
   },
   "outputs": [
    {
     "name": "stdout",
     "output_type": "stream",
     "text": [
      "System Information:\n",
      "CPU Info:\n",
      "{'CPU_Core_Count': 8, 'CPU_Usage_Percentage': 6.2}\n",
      "GPU Info:\n",
      "{'GPU_Name': 'nvidia-smi command not found, no GPU detected'}\n",
      "RAM Info:\n",
      "{'Available_RAM_GB': 11.16290283203125,\n",
      " 'RAM_Usage_Percentage': 27.4,\n",
      " 'Total_RAM_GB': 15.367862701416016}\n",
      "Storage Info:\n",
      "{'Available_Storage_GB': 138.19915771484375,\n",
      " 'Storage_Usage_Percentage': 23.8,\n",
      " 'Total_Storage_GB': 191.18775939941406}\n"
     ]
    }
   ],
   "source": [
    "from pprint import pprint\n",
    "# Load the Titanic dataset\n",
    "titanic_df = pd.read_csv('https://raw.githubusercontent.com/datasciencedojo/datasets/master/titanic.csv')\n",
    "\n",
    "# System information\n",
    "cpu_info = get_cpu_info()\n",
    "gpu_info = get_gpu_info()\n",
    "ram_info = get_ram_info()\n",
    "storage_info = get_storage_info()\n",
    "\n",
    "# Output the results\n",
    "print(\"System Information:\")\n",
    "print(\"CPU Info:\")\n",
    "pprint(cpu_info)\n",
    "print(\"GPU Info:\")\n",
    "pprint(gpu_info)\n",
    "print(\"RAM Info:\")\n",
    "pprint(ram_info)\n",
    "print(\"Storage Info:\")\n",
    "pprint(storage_info)"
   ]
  },
  {
   "cell_type": "markdown",
   "metadata": {},
   "source": [
    "#### Display Dataset requirements"
   ]
  },
  {
   "cell_type": "code",
   "execution_count": 17,
   "metadata": {
    "execution": {
     "iopub.execute_input": "2024-11-10T07:14:38.153604Z",
     "iopub.status.busy": "2024-11-10T07:14:38.153215Z",
     "iopub.status.idle": "2024-11-10T07:14:38.160896Z",
     "shell.execute_reply": "2024-11-10T07:14:38.160278Z",
     "shell.execute_reply.started": "2024-11-10T07:14:38.153572Z"
    }
   },
   "outputs": [
    {
     "name": "stdout",
     "output_type": "stream",
     "text": [
      "Average Processing Time (seconds): 0.0004\n",
      "Dataset Volume (Memory Usage)\n",
      "0.28 MB\n"
     ]
    }
   ],
   "source": [
    "# Measure processing time on Titanic data\n",
    "average_processing_time = measure_processing_time(process_titanic_data, titanic_df)\n",
    "\n",
    "print(f\"Average Processing Time (seconds): {average_processing_time:.4f}\")\n",
    "\n",
    "print('Dataset Volume (Memory Usage)')\n",
    "print(f\"{titanic_df.memory_usage(deep=True).sum() / (1024**2):.2f} MB\")"
   ]
  },
  {
   "cell_type": "markdown",
   "metadata": {
    "execution": {
     "iopub.execute_input": "2024-11-10T09:31:54.077719Z",
     "iopub.status.busy": "2024-11-10T09:31:54.077092Z",
     "iopub.status.idle": "2024-11-10T09:31:54.084493Z",
     "shell.execute_reply": "2024-11-10T09:31:54.083232Z",
     "shell.execute_reply.started": "2024-11-10T09:31:54.077677Z"
    }
   },
   "source": [
    "## ===============================================================================================================================\n",
    "## Task 3\n",
    "### Operational flow of Big Data Analytics \n",
    "\n",
    "## Objective: \n",
    "1.    **Data Ingestion**: Loading data from various sources.\n",
    "2.    **Data Storage**: Storing data efficiently for processing.\n",
    "3.    **Data Processing/Cleaning**: Cleaning and preparing data for analysis.\n",
    "4.    **Data Transformation/Feature Engineering**: Transforming data to extract meaningful features.\n",
    "5.    **Data Analysis/Modeling**: Analyzing data to derive insights or build predictive models.\n",
    "6.    **Data Visualization**: Visualizing the results for better understanding.\n",
    "\n"
   ]
  },
  {
   "cell_type": "markdown",
   "metadata": {},
   "source": [
    "### Data Ingestion"
   ]
  },
  {
   "cell_type": "code",
   "execution_count": 26,
   "metadata": {
    "execution": {
     "iopub.execute_input": "2024-11-10T09:54:16.212259Z",
     "iopub.status.busy": "2024-11-10T09:54:16.211876Z",
     "iopub.status.idle": "2024-11-10T09:54:16.237434Z",
     "shell.execute_reply": "2024-11-10T09:54:16.236758Z",
     "shell.execute_reply.started": "2024-11-10T09:54:16.212230Z"
    }
   },
   "outputs": [
    {
     "name": "stdout",
     "output_type": "stream",
     "text": [
      "Data Ingestion Completed. Sample Data:\n"
     ]
    },
    {
     "data": {
      "text/html": [
       "<div>\n",
       "<style scoped>\n",
       "    .dataframe tbody tr th:only-of-type {\n",
       "        vertical-align: middle;\n",
       "    }\n",
       "\n",
       "    .dataframe tbody tr th {\n",
       "        vertical-align: top;\n",
       "    }\n",
       "\n",
       "    .dataframe thead th {\n",
       "        text-align: right;\n",
       "    }\n",
       "</style>\n",
       "<table border=\"1\" class=\"dataframe\">\n",
       "  <thead>\n",
       "    <tr style=\"text-align: right;\">\n",
       "      <th></th>\n",
       "      <th>survived</th>\n",
       "      <th>pclass</th>\n",
       "      <th>sex</th>\n",
       "      <th>age</th>\n",
       "      <th>sibsp</th>\n",
       "      <th>parch</th>\n",
       "      <th>fare</th>\n",
       "      <th>embarked</th>\n",
       "      <th>class</th>\n",
       "      <th>who</th>\n",
       "      <th>adult_male</th>\n",
       "      <th>deck</th>\n",
       "      <th>embark_town</th>\n",
       "      <th>alive</th>\n",
       "      <th>alone</th>\n",
       "    </tr>\n",
       "  </thead>\n",
       "  <tbody>\n",
       "    <tr>\n",
       "      <th>0</th>\n",
       "      <td>0</td>\n",
       "      <td>3</td>\n",
       "      <td>male</td>\n",
       "      <td>22.0</td>\n",
       "      <td>1</td>\n",
       "      <td>0</td>\n",
       "      <td>7.2500</td>\n",
       "      <td>S</td>\n",
       "      <td>Third</td>\n",
       "      <td>man</td>\n",
       "      <td>True</td>\n",
       "      <td>NaN</td>\n",
       "      <td>Southampton</td>\n",
       "      <td>no</td>\n",
       "      <td>False</td>\n",
       "    </tr>\n",
       "    <tr>\n",
       "      <th>1</th>\n",
       "      <td>1</td>\n",
       "      <td>1</td>\n",
       "      <td>female</td>\n",
       "      <td>38.0</td>\n",
       "      <td>1</td>\n",
       "      <td>0</td>\n",
       "      <td>71.2833</td>\n",
       "      <td>C</td>\n",
       "      <td>First</td>\n",
       "      <td>woman</td>\n",
       "      <td>False</td>\n",
       "      <td>C</td>\n",
       "      <td>Cherbourg</td>\n",
       "      <td>yes</td>\n",
       "      <td>False</td>\n",
       "    </tr>\n",
       "    <tr>\n",
       "      <th>2</th>\n",
       "      <td>1</td>\n",
       "      <td>3</td>\n",
       "      <td>female</td>\n",
       "      <td>26.0</td>\n",
       "      <td>0</td>\n",
       "      <td>0</td>\n",
       "      <td>7.9250</td>\n",
       "      <td>S</td>\n",
       "      <td>Third</td>\n",
       "      <td>woman</td>\n",
       "      <td>False</td>\n",
       "      <td>NaN</td>\n",
       "      <td>Southampton</td>\n",
       "      <td>yes</td>\n",
       "      <td>True</td>\n",
       "    </tr>\n",
       "    <tr>\n",
       "      <th>3</th>\n",
       "      <td>1</td>\n",
       "      <td>1</td>\n",
       "      <td>female</td>\n",
       "      <td>35.0</td>\n",
       "      <td>1</td>\n",
       "      <td>0</td>\n",
       "      <td>53.1000</td>\n",
       "      <td>S</td>\n",
       "      <td>First</td>\n",
       "      <td>woman</td>\n",
       "      <td>False</td>\n",
       "      <td>C</td>\n",
       "      <td>Southampton</td>\n",
       "      <td>yes</td>\n",
       "      <td>False</td>\n",
       "    </tr>\n",
       "    <tr>\n",
       "      <th>4</th>\n",
       "      <td>0</td>\n",
       "      <td>3</td>\n",
       "      <td>male</td>\n",
       "      <td>35.0</td>\n",
       "      <td>0</td>\n",
       "      <td>0</td>\n",
       "      <td>8.0500</td>\n",
       "      <td>S</td>\n",
       "      <td>Third</td>\n",
       "      <td>man</td>\n",
       "      <td>True</td>\n",
       "      <td>NaN</td>\n",
       "      <td>Southampton</td>\n",
       "      <td>no</td>\n",
       "      <td>True</td>\n",
       "    </tr>\n",
       "  </tbody>\n",
       "</table>\n",
       "</div>"
      ],
      "text/plain": [
       "   survived  pclass     sex   age  sibsp  parch     fare embarked  class  \\\n",
       "0         0       3    male  22.0      1      0   7.2500        S  Third   \n",
       "1         1       1  female  38.0      1      0  71.2833        C  First   \n",
       "2         1       3  female  26.0      0      0   7.9250        S  Third   \n",
       "3         1       1  female  35.0      1      0  53.1000        S  First   \n",
       "4         0       3    male  35.0      0      0   8.0500        S  Third   \n",
       "\n",
       "     who  adult_male deck  embark_town alive  alone  \n",
       "0    man        True  NaN  Southampton    no  False  \n",
       "1  woman       False    C    Cherbourg   yes  False  \n",
       "2  woman       False  NaN  Southampton   yes   True  \n",
       "3  woman       False    C  Southampton   yes  False  \n",
       "4    man        True  NaN  Southampton    no   True  "
      ]
     },
     "metadata": {},
     "output_type": "display_data"
    }
   ],
   "source": [
    "import pandas as pd\n",
    "import numpy as np\n",
    "import matplotlib.pyplot as plt\n",
    "import seaborn as sns\n",
    "from sklearn.model_selection import train_test_split\n",
    "from sklearn.linear_model import LogisticRegression\n",
    "from sklearn.metrics import accuracy_score, confusion_matrix, classification_report\n",
    "\n",
    "df = sns.load_dataset('titanic')\n",
    "print(\"Data Ingestion Completed. Sample Data:\")\n",
    "display(df.head())\n"
   ]
  },
  {
   "cell_type": "markdown",
   "metadata": {},
   "source": [
    "### Data Storage"
   ]
  },
  {
   "cell_type": "code",
   "execution_count": 27,
   "metadata": {
    "execution": {
     "iopub.execute_input": "2024-11-10T09:54:17.146705Z",
     "iopub.status.busy": "2024-11-10T09:54:17.146312Z",
     "iopub.status.idle": "2024-11-10T09:54:17.161885Z",
     "shell.execute_reply": "2024-11-10T09:54:17.160743Z",
     "shell.execute_reply.started": "2024-11-10T09:54:17.146674Z"
    }
   },
   "outputs": [
    {
     "name": "stdout",
     "output_type": "stream",
     "text": [
      "Data Stored Successfully in titanic_dataset.csv\n"
     ]
    }
   ],
   "source": [
    "# 2. Data Storage\n",
    "filename = \"titanic_dataset.csv\"\n",
    "df.to_csv(filename, index=False)\n",
    "print(f\"Data Stored Successfully in {filename}\")"
   ]
  },
  {
   "cell_type": "markdown",
   "metadata": {},
   "source": [
    "### Data Cleaning"
   ]
  },
  {
   "cell_type": "code",
   "execution_count": 28,
   "metadata": {
    "execution": {
     "iopub.execute_input": "2024-11-10T09:54:18.127294Z",
     "iopub.status.busy": "2024-11-10T09:54:18.126699Z",
     "iopub.status.idle": "2024-11-10T09:54:18.141045Z",
     "shell.execute_reply": "2024-11-10T09:54:18.140082Z",
     "shell.execute_reply.started": "2024-11-10T09:54:18.127246Z"
    }
   },
   "outputs": [
    {
     "name": "stdout",
     "output_type": "stream",
     "text": [
      "\n",
      "Starting Data Cleaning...\n",
      "\n",
      "Filling nan values finished \n",
      "Data Cleaning Completed.\n"
     ]
    }
   ],
   "source": [
    "\n",
    "# 3. Data Processing/Cleaning\n",
    "\n",
    "print(\"\\nStarting Data Cleaning...\\n\")\n",
    "\n",
    "# Drop columns with too many missing values and irrelevant columns\n",
    "df.drop(['deck', 'embark_town', 'alive'], axis=1, inplace=True)\n",
    "\n",
    "print('Filling nan values finished ')\n",
    "# Fill missing 'age' with median and 'embarked' with mode\n",
    "df['age'] = df['age'].fillna(df['age'].median())\n",
    "df['embarked'] = df['embarked'].fillna(df['embarked'].mode()[0])\n",
    "\n",
    "# Drop rows where 'embarked' is still missing\n",
    "df.dropna(subset=['embarked'], inplace=True)\n",
    "\n",
    "print(\"Data Cleaning Completed.\")\n"
   ]
  },
  {
   "cell_type": "markdown",
   "metadata": {},
   "source": [
    "### Transform Data"
   ]
  },
  {
   "cell_type": "code",
   "execution_count": 29,
   "metadata": {
    "execution": {
     "iopub.execute_input": "2024-11-10T09:54:19.681694Z",
     "iopub.status.busy": "2024-11-10T09:54:19.681284Z",
     "iopub.status.idle": "2024-11-10T09:54:19.708165Z",
     "shell.execute_reply": "2024-11-10T09:54:19.707139Z",
     "shell.execute_reply.started": "2024-11-10T09:54:19.681641Z"
    }
   },
   "outputs": [
    {
     "name": "stdout",
     "output_type": "stream",
     "text": [
      "\n",
      "Starting Data Transformation...\n"
     ]
    },
    {
     "data": {
      "text/html": [
       "<div>\n",
       "<style scoped>\n",
       "    .dataframe tbody tr th:only-of-type {\n",
       "        vertical-align: middle;\n",
       "    }\n",
       "\n",
       "    .dataframe tbody tr th {\n",
       "        vertical-align: top;\n",
       "    }\n",
       "\n",
       "    .dataframe thead th {\n",
       "        text-align: right;\n",
       "    }\n",
       "</style>\n",
       "<table border=\"1\" class=\"dataframe\">\n",
       "  <thead>\n",
       "    <tr style=\"text-align: right;\">\n",
       "      <th></th>\n",
       "      <th>survived</th>\n",
       "      <th>pclass</th>\n",
       "      <th>age</th>\n",
       "      <th>sibsp</th>\n",
       "      <th>parch</th>\n",
       "      <th>fare</th>\n",
       "      <th>class</th>\n",
       "      <th>who</th>\n",
       "      <th>adult_male</th>\n",
       "      <th>alone</th>\n",
       "      <th>sex_male</th>\n",
       "      <th>embarked_Q</th>\n",
       "      <th>embarked_S</th>\n",
       "      <th>family_size</th>\n",
       "    </tr>\n",
       "  </thead>\n",
       "  <tbody>\n",
       "    <tr>\n",
       "      <th>0</th>\n",
       "      <td>0</td>\n",
       "      <td>3</td>\n",
       "      <td>22.0</td>\n",
       "      <td>1</td>\n",
       "      <td>0</td>\n",
       "      <td>7.2500</td>\n",
       "      <td>Third</td>\n",
       "      <td>man</td>\n",
       "      <td>True</td>\n",
       "      <td>False</td>\n",
       "      <td>True</td>\n",
       "      <td>False</td>\n",
       "      <td>True</td>\n",
       "      <td>2</td>\n",
       "    </tr>\n",
       "    <tr>\n",
       "      <th>1</th>\n",
       "      <td>1</td>\n",
       "      <td>1</td>\n",
       "      <td>38.0</td>\n",
       "      <td>1</td>\n",
       "      <td>0</td>\n",
       "      <td>71.2833</td>\n",
       "      <td>First</td>\n",
       "      <td>woman</td>\n",
       "      <td>False</td>\n",
       "      <td>False</td>\n",
       "      <td>False</td>\n",
       "      <td>False</td>\n",
       "      <td>False</td>\n",
       "      <td>2</td>\n",
       "    </tr>\n",
       "    <tr>\n",
       "      <th>2</th>\n",
       "      <td>1</td>\n",
       "      <td>3</td>\n",
       "      <td>26.0</td>\n",
       "      <td>0</td>\n",
       "      <td>0</td>\n",
       "      <td>7.9250</td>\n",
       "      <td>Third</td>\n",
       "      <td>woman</td>\n",
       "      <td>False</td>\n",
       "      <td>True</td>\n",
       "      <td>False</td>\n",
       "      <td>False</td>\n",
       "      <td>True</td>\n",
       "      <td>1</td>\n",
       "    </tr>\n",
       "    <tr>\n",
       "      <th>3</th>\n",
       "      <td>1</td>\n",
       "      <td>1</td>\n",
       "      <td>35.0</td>\n",
       "      <td>1</td>\n",
       "      <td>0</td>\n",
       "      <td>53.1000</td>\n",
       "      <td>First</td>\n",
       "      <td>woman</td>\n",
       "      <td>False</td>\n",
       "      <td>False</td>\n",
       "      <td>False</td>\n",
       "      <td>False</td>\n",
       "      <td>True</td>\n",
       "      <td>2</td>\n",
       "    </tr>\n",
       "    <tr>\n",
       "      <th>4</th>\n",
       "      <td>0</td>\n",
       "      <td>3</td>\n",
       "      <td>35.0</td>\n",
       "      <td>0</td>\n",
       "      <td>0</td>\n",
       "      <td>8.0500</td>\n",
       "      <td>Third</td>\n",
       "      <td>man</td>\n",
       "      <td>True</td>\n",
       "      <td>True</td>\n",
       "      <td>True</td>\n",
       "      <td>False</td>\n",
       "      <td>True</td>\n",
       "      <td>1</td>\n",
       "    </tr>\n",
       "  </tbody>\n",
       "</table>\n",
       "</div>"
      ],
      "text/plain": [
       "   survived  pclass   age  sibsp  parch     fare  class    who  adult_male  \\\n",
       "0         0       3  22.0      1      0   7.2500  Third    man        True   \n",
       "1         1       1  38.0      1      0  71.2833  First  woman       False   \n",
       "2         1       3  26.0      0      0   7.9250  Third  woman       False   \n",
       "3         1       1  35.0      1      0  53.1000  First  woman       False   \n",
       "4         0       3  35.0      0      0   8.0500  Third    man        True   \n",
       "\n",
       "   alone  sex_male  embarked_Q  embarked_S  family_size  \n",
       "0  False      True       False        True            2  \n",
       "1  False     False       False       False            2  \n",
       "2   True     False       False        True            1  \n",
       "3  False     False       False        True            2  \n",
       "4   True      True       False        True            1  "
      ]
     },
     "metadata": {},
     "output_type": "display_data"
    },
    {
     "name": "stdout",
     "output_type": "stream",
     "text": [
      "Data Transformation Completed.\n",
      "\n"
     ]
    }
   ],
   "source": [
    "\n",
    "# 4. Data Transformation/Feature Engineering\n",
    "\n",
    "print(\"\\nStarting Data Transformation...\")\n",
    "\n",
    "# Encode 'sex' and 'embarked' columns\n",
    "df = pd.get_dummies(df, columns=['sex', 'embarked'], drop_first=True)\n",
    "\n",
    "# Create a new feature 'family_size'\n",
    "df['family_size'] = df['sibsp'] + df['parch'] + 1  # including the person themselves\n",
    "\n",
    "display(df.head())\n",
    "\n",
    "print(\"Data Transformation Completed.\\n\")\n"
   ]
  },
  {
   "cell_type": "markdown",
   "metadata": {},
   "source": [
    "### Modeling Data -Linear regression"
   ]
  },
  {
   "cell_type": "code",
   "execution_count": 31,
   "metadata": {
    "execution": {
     "iopub.execute_input": "2024-11-10T09:56:14.312712Z",
     "iopub.status.busy": "2024-11-10T09:56:14.312314Z",
     "iopub.status.idle": "2024-11-10T09:56:14.382568Z",
     "shell.execute_reply": "2024-11-10T09:56:14.381242Z",
     "shell.execute_reply.started": "2024-11-10T09:56:14.312682Z"
    }
   },
   "outputs": [
    {
     "name": "stdout",
     "output_type": "stream",
     "text": [
      "\n",
      "Starting Data Analysis/Modeling...\n",
      "\n",
      "Model Performance:\n",
      "Accuracy: 0.80\n",
      "Classification Report:\n",
      "               precision    recall  f1-score   support\n",
      "\n",
      "           0       0.82      0.86      0.84       105\n",
      "           1       0.78      0.73      0.76        74\n",
      "\n",
      "    accuracy                           0.80       179\n",
      "   macro avg       0.80      0.79      0.80       179\n",
      "weighted avg       0.80      0.80      0.80       179\n",
      "\n"
     ]
    }
   ],
   "source": [
    "\n",
    "print(\"\\nStarting Data Analysis/Modeling...\\n\")\n",
    "\n",
    "# Define features and target\n",
    "features = ['pclass', 'age', 'fare', 'sex_male', 'embarked_Q', 'embarked_S', 'family_size']\n",
    "X = df[features]\n",
    "y = df['survived']\n",
    "\n",
    "# Split the data\n",
    "X_train, X_test, y_train, y_test = train_test_split(X, y, test_size=0.2, random_state=42)\n",
    "\n",
    "# Initialize and train the model\n",
    "model = LogisticRegression(max_iter=200)\n",
    "model.fit(X_train, y_train)\n",
    "\n",
    "# Make predictions\n",
    "y_pred = model.predict(X_test)\n",
    "\n",
    "# Evaluate the model\n",
    "accuracy = accuracy_score(y_test, y_pred)\n",
    "print(f\"Model Performance:\\nAccuracy: {accuracy:.2f}\")\n",
    "print(\"Classification Report:\\n\", classification_report(y_test, y_pred))\n"
   ]
  },
  {
   "cell_type": "markdown",
   "metadata": {},
   "source": [
    "### Data Visualization"
   ]
  },
  {
   "cell_type": "code",
   "execution_count": 33,
   "metadata": {
    "execution": {
     "iopub.execute_input": "2024-11-10T09:58:13.454693Z",
     "iopub.status.busy": "2024-11-10T09:58:13.454116Z",
     "iopub.status.idle": "2024-11-10T09:58:14.065396Z",
     "shell.execute_reply": "2024-11-10T09:58:14.064938Z",
     "shell.execute_reply.started": "2024-11-10T09:58:13.454658Z"
    }
   },
   "outputs": [
    {
     "name": "stdout",
     "output_type": "stream",
     "text": [
      "\n",
      "Starting Data Visualization...\n"
     ]
    },
    {
     "data": {
      "image/png": "[encoded data removed]",
      "text/plain": [
       "<Figure size 2000x600 with 3 Axes>"
      ]
     },
     "metadata": {},
     "output_type": "display_data"
    },
    {
     "name": "stdout",
     "output_type": "stream",
     "text": [
      "Data Visualization Completed.\n"
     ]
    }
   ],
   "source": [
    "import matplotlib.pyplot as plt\n",
    "import seaborn as sns\n",
    "from sklearn.metrics import confusion_matrix\n",
    "\n",
    "print(\"\\nStarting Data Visualization...\")\n",
    "\n",
    "# Set up subplots with a 1x3 layout\n",
    "fig, axes = plt.subplots(1, 3, figsize=(20, 6))\n",
    "fig.suptitle('Data Visualization')\n",
    "\n",
    "# Distribution of age\n",
    "sns.histplot(df['age'], bins=30, kde=True, ax=axes[0])\n",
    "axes[0].set_title('Distribution of Age')\n",
    "\n",
    "# Survival by Class and Gender\n",
    "sns.barplot(data=df, x='pclass', y='survived', hue='sex_male', ax=axes[1])\n",
    "axes[1].set_title('Survival Rate by Class and Gender')\n",
    "\n",
    "# Confusion Matrix\n",
    "conf_matrix = confusion_matrix(y_test, y_pred)\n",
    "sns.heatmap(conf_matrix, annot=True, fmt=\"d\", cmap=\"Blues\", cbar=False, ax=axes[2])\n",
    "axes[2].set_xlabel(\"Predicted\")\n",
    "axes[2].set_ylabel(\"Actual\")\n",
    "axes[2].set_title(\"Confusion Matrix\")\n",
    "\n",
    "plt.tight_layout(rect=[0, 0, 1, 0.95])  # Adjust layout to accommodate the suptitle\n",
    "plt.show()\n",
    "\n",
    "print(\"Data Visualization Completed.\")\n"
   ]
  },
  {
   "cell_type": "code",
   "execution_count": null,
   "metadata": {},
   "outputs": [],
   "source": []
  },
  {
   "cell_type": "code",
   "execution_count": null,
   "metadata": {},
   "outputs": [],
   "source": []
  },
  {
   "cell_type": "code",
   "execution_count": null,
   "metadata": {},
   "outputs": [],
   "source": []
  }
 ],
 "metadata": {
  "kaggle": {
   "accelerator": "none",
   "dataSources": [],
   "dockerImageVersionId": 30786,
   "isGpuEnabled": false,
   "isInternetEnabled": true,
   "language": "python",
   "sourceType": "notebook"
  },
  "kernelspec": {
   "display_name": "Python 3 (ipykernel)",
   "language": "python",
   "name": "python3"
  },
  "language_info": {
   "codemirror_mode": {
    "name": "ipython",
    "version": 3
   },
   "file_extension": ".py",
   "mimetype": "text/x-python",
   "name": "python",
   "nbconvert_exporter": "python",
   "pygments_lexer": "ipython3",
   "version": "3.12.4"
  }
 },
 "nbformat": 4,
 "nbformat_minor": 4
}
