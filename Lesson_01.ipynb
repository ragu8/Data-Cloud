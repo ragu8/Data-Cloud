{
 "cells": [
  {
   "cell_type": "markdown",
   "metadata": {},
   "source": [
    "## Topic 1\n",
    "### Analyze a Dataset to Explore Big Data Characteristics"
   ]
  },
  {
   "cell_type": "markdown",
   "metadata": {},
   "source": [
    "### Objective: \n",
    "1. Analyze a Sample Dataset to Understand Volume,Velocity,Variety,Verosity,Value."
   ]
  },
  {
   "cell_type": "markdown",
   "metadata": {},
   "source": [
    "### Task Steps:\n",
    "\n",
    "1. Read the Data: Load the dataset.\n",
    "2. Analyze Volume: Handle the large volume of data by processing it in chunks.\n",
    "3. Analyze Variety: Check data types and unique fields (e.g., categorical and numerical data).\n",
    "4. Analyse Velocity: Check the volume of data\n",
    "5. Ensure Veracity: Check for and clean inconsistencies or missing values.\n",
    "6. Extract Value: Perform a basic analysis, such as calculating the busiest hours for taxi trips or finding the average trip distance."
   ]
  },
  {
   "cell_type": "code",
   "execution_count": 1,
   "metadata": {},
   "outputs": [],
   "source": [
    "import pandas as pd\n",
    "\n",
    "# Load the Titanic dataset (update the path if the file is stored locally or use a URL if available)\n",
    "url = \"https://raw.githubusercontent.com/datasciencedojo/datasets/master/titanic.csv\"\n",
    "df = pd.read_csv(url)"
   ]
  },
  {
   "cell_type": "markdown",
   "metadata": {},
   "source": [
    "### Analyse Volume\n"
   ]
  },
  {
   "cell_type": "code",
   "execution_count": 6,
   "metadata": {},
   "outputs": [
    {
     "name": "stdout",
     "output_type": "stream",
     "text": [
      "Dataset Volume (Memory Usage)\n",
      "0.29 MB\n"
     ]
    }
   ],
   "source": [
    "print(\"Dataset Volume (Memory Usage)\")\n",
    "print(f\"{df.memory_usage(deep=True).sum() / (1024**2):.2f} MB\")"
   ]
  },
  {
   "cell_type": "markdown",
   "metadata": {},
   "source": [
    "### Analyse Variety\n"
   ]
  },
  {
   "cell_type": "code",
   "execution_count": 7,
   "metadata": {},
   "outputs": [
    {
     "name": "stdout",
     "output_type": "stream",
     "text": [
      "Dataset Variety:\n",
      "\n",
      "Data Types:\n",
      "PassengerId      int64\n",
      "Survived         int64\n",
      "Pclass           int64\n",
      "Name            object\n",
      "Sex             object\n",
      "Age            float64\n",
      "SibSp            int64\n",
      "Parch            int64\n",
      "Ticket          object\n",
      "Fare           float64\n",
      "Cabin           object\n",
      "Embarked        object\n",
      "dtype: object\n",
      "========================================\n",
      "Print Dataset contains 3 different datatypes\n"
     ]
    }
   ],
   "source": [
    "# Analyze Variety: Display the data types of each column\n",
    "print(\"Dataset Variety:\")\n",
    "print(\"\\nData Types:\")\n",
    "print(df.dtypes)\n",
    "print(f\"=\"*40)\n",
    "print(\"Print Dataset contains 3 different datatypes\")"
   ]
  },
  {
   "cell_type": "markdown",
   "metadata": {},
   "source": [
    "### Verocity : Clean data by handling missing values or outliers"
   ]
  },
  {
   "cell_type": "code",
   "execution_count": 8,
   "metadata": {},
   "outputs": [],
   "source": [
    "# Handle missing values\n",
    "df['Age'] = df['Age'].fillna(df['Age'].median())  # Fill missing Age values with median age\n",
    "df['Embarked'] = df['Embarked'].fillna(df['Embarked'].mode()[0])  # Fill missing Embarked values with mode\n",
    "df['Fare'] = df['Fare'].fillna(df['Fare'].median())  # Fill missing Fare values with median fare\n",
    "df = df.fillna(\"Unknown\")  # Fill any remaining NaNs with \"Unknown\" (or consider dropping)"
   ]
  },
  {
   "cell_type": "markdown",
   "metadata": {},
   "source": [
    "### Value - Insights"
   ]
  },
  {
   "cell_type": "code",
   "execution_count": 9,
   "metadata": {},
   "outputs": [
    {
     "name": "stdout",
     "output_type": "stream",
     "text": [
      "\n",
      "Average Age of Passengers: 29.36158249158249\n",
      "Survival Rate (%): 38.38383838383838\n"
     ]
    }
   ],
   "source": [
    "# Basic Insights\n",
    "# 1. Calculate the average age of passengers\n",
    "average_age = df['Age'].mean()\n",
    "print(\"\\nAverage Age of Passengers:\", average_age)\n",
    "\n",
    "# 2. Calculate the percentage of survivors\n",
    "survival_rate = df['Survived'].mean() * 100\n",
    "print(\"Survival Rate (%):\", survival_rate)\n"
   ]
  },
  {
   "cell_type": "markdown",
   "metadata": {},
   "source": [
    "### Velocity \n",
    "\n",
    "- Dataset is download not a streaming so can't get velocity"
   ]
  },
  {
   "cell_type": "code",
   "execution_count": null,
   "metadata": {},
   "outputs": [],
   "source": []
  }
 ],
 "metadata": {
  "kaggle": {
   "accelerator": "none",
   "dataSources": [],
   "dockerImageVersionId": 30786,
   "isGpuEnabled": false,
   "isInternetEnabled": true,
   "language": "python",
   "sourceType": "notebook"
  },
  "kernelspec": {
   "display_name": "Python 3 (ipykernel)",
   "language": "python",
   "name": "python3"
  },
  "language_info": {
   "codemirror_mode": {
    "name": "ipython",
    "version": 3
   },
   "file_extension": ".py",
   "mimetype": "text/x-python",
   "name": "python",
   "nbconvert_exporter": "python",
   "pygments_lexer": "ipython3",
   "version": "3.12.3"
  }
 },
 "nbformat": 4,
 "nbformat_minor": 4
}
